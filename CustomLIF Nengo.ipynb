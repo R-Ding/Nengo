{
 "cells": [
  {
   "cell_type": "code",
   "execution_count": 1,
   "metadata": {},
   "outputs": [],
   "source": [
    "import numpy as np\n",
    "import matplotlib.pyplot as plt\n",
    "import math\n",
    "from scipy.spatial.distance import pdist, squareform\n",
    "%matplotlib inline\n",
    "\n",
    "import nengo\n",
    "from nengo.params import Parameter, NumberParam, NdarrayParam\n",
    "from nengo.neurons import settled_firingrate\n",
    "\n",
    "def adjacency(num, ri, ro, sqR):\n",
    "    nx = sqR*np.random.rand(num,2)\n",
    "    D = squareform(pdist(nx))\n",
    "    S = np.zeros((num, num))\n",
    "\n",
    "    for index, x in np.ndenumerate(D):\n",
    "        if (x < ri):\n",
    "            S[index] = 30*x\n",
    "        elif (x > ro):\n",
    "            S[index] = -10*math.exp(-x / 10)        \n",
    "    S = S - np.diag(np.diag(S)) \n",
    "    return S\n",
    "\n",
    "class CustomLIF(nengo.neurons.NeuronType):\n",
    "    \"\"\"Spiking version of the leaky integrate-and-fire (LIF) neuron model.\n",
    "\n",
    "    Parameters\n",
    "    ----------\n",
    "    tau_rc : float\n",
    "        Membrane RC time constant, in seconds. Affects how quickly the membrane\n",
    "        voltage decays to zero in the absence of input (larger = slower decay).\n",
    "    tau_ref : float\n",
    "        Absolute refractory period, in seconds. This is how long the\n",
    "        membrane voltage is held at zero after a spike.\n",
    "    min_voltage : float\n",
    "        Minimum value for the membrane voltage. If ``-np.inf``, the voltage\n",
    "        is never clipped.\n",
    "    amplitude : float\n",
    "        Scaling factor on the neuron output. Corresponds to the relative\n",
    "        amplitude of the output spikes of the neuron.\n",
    "    \"\"\"\n",
    "\n",
    "    probeable = (\"spikes\", \"voltage\", \"refractory_time\")\n",
    "\n",
    "    min_voltage = NumberParam(\"min_voltage\", high=0)\n",
    "    tau_rc = NumberParam(\"tau_rc\", low=0, low_open=True)\n",
    "    tau_ref = NumberParam(\"tau_ref\", low=0)\n",
    "    amplitude = NumberParam(\"amplitude\", low=0, low_open=True)\n",
    "    num = NumberParam(\"num\")\n",
    "    S = NdarrayParam(\"S\")  # adjacency matrix\n",
    "\n",
    "    def __init__(self, S, num, tau_rc=0.02, tau_ref=0.002, min_voltage=0, amplitude=1):\n",
    "        super().__init__()\n",
    "        self.tau_rc = tau_rc\n",
    "        self.tau_ref = tau_ref\n",
    "        self.amplitude = amplitude\n",
    "        self.min_voltage = min_voltage\n",
    "        self.num = num\n",
    "        self.S = S\n",
    "\n",
    "    def gain_bias(self, max_rates, intercepts):\n",
    "        \"\"\"Analytically determine gain, bias.\"\"\"\n",
    "        max_rates = np.array(max_rates, dtype=float, copy=False, ndmin=1)\n",
    "        intercepts = np.array(intercepts, dtype=float, copy=False, ndmin=1)\n",
    "\n",
    "        inv_tau_ref = 1.0 / self.tau_ref if self.tau_ref > 0 else np.inf\n",
    "        if np.any(max_rates > inv_tau_ref):\n",
    "            raise ValidationError(\n",
    "                \"Max rates must be below the inverse \"\n",
    "                \"refractory period (%0.3f)\" % inv_tau_ref,\n",
    "                attr=\"max_rates\",\n",
    "                obj=self,\n",
    "            )\n",
    "\n",
    "        x = 1.0 / (1 - np.exp((self.tau_ref - (1.0 / max_rates)) / self.tau_rc))\n",
    "        gain = (1 - x) / (intercepts - 1.0)\n",
    "        bias = 1 - gain * intercepts\n",
    "        return gain, bias\n",
    "\n",
    "\n",
    "    def max_rates_intercepts(self, gain, bias):\n",
    "        \"\"\"Compute the inverse of gain_bias.\"\"\"\n",
    "        intercepts = (1 - bias) / gain\n",
    "        max_rates = 1.0 / (\n",
    "            self.tau_ref - self.tau_rc * np.log1p(1.0 / (gain * (intercepts - 1) - 1))\n",
    "        )\n",
    "        if not np.all(np.isfinite(max_rates)):\n",
    "            warnings.warn(\n",
    "                \"Non-finite values detected in `max_rates`; this \"\n",
    "                \"probably means that `gain` was too small.\"\n",
    "            )\n",
    "        return max_rates, intercepts\n",
    "\n",
    "\n",
    "    def rates(self, x, gain, bias):\n",
    "        \"\"\"Always use LIFRate to determine rates.\"\"\"\n",
    "        J = self.current(x, gain, bias)\n",
    "        out = np.zeros_like(J)\n",
    "        # Use LIFRate's step_math explicitly to ensure rate approximation\n",
    "        LIFRate.step_math(self, dt=1, J=J, output=out)\n",
    "        return out\n",
    "\n",
    "\n",
    "    def step_math(self, dt, J, spiked, voltage, refractory_time):        \n",
    "        print('init voltage = {}'.format(voltage))\n",
    "        # reduce all refractory times by dt\n",
    "        refractory_time -= dt\n",
    "\n",
    "        # compute effective dt for each neuron, based on remaining time.\n",
    "        # note that refractory times that have completed midway into this\n",
    "        # timestep will be given a partial timestep, and moreover these will\n",
    "        # be subtracted to zero at the next timestep (or reset by a spike)\n",
    "        delta_t = (dt - refractory_time).clip(0, dt)\n",
    "\n",
    "        \n",
    "        # step voltage\n",
    "        U = np.matmul(spiked, S)\n",
    "        print('U = {}'.format(U))\n",
    "        eta = 3*np.random.rand(3,)\n",
    "        print('eta = {}'.format(eta))\n",
    "        dV = (-1/self.tau_rc) * voltage + U + eta\n",
    "        print('dV = {}'.format(dV))\n",
    "        voltage[:] += dV * dt * 1000\n",
    "        print('final voltage = {}'.format(voltage))\n",
    "        \n",
    "        # determine which neurons spiked (set them to 1/dt, else 0)\n",
    "        spiked_mask = voltage > 1\n",
    "        spiked[:] = spiked_mask * (self.amplitude / dt)\n",
    "        print('spiked = {}'.format(spiked))\n",
    "\n",
    "        # set v(0) = 1 and solve for t to compute the spike time\n",
    "        t_spike = dt + self.tau_rc * np.log1p(\n",
    "            -(voltage[spiked_mask] - 1) / (J[spiked_mask] - 1)\n",
    "        )\n",
    "\n",
    "        # set spiked voltages to zero, refractory times to tau_ref, and\n",
    "        # rectify negative voltages to a floor of min_voltage\n",
    "        voltage[voltage < self.min_voltage] = self.min_voltage\n",
    "        voltage[spiked_mask] = 0\n",
    "        refractory_time[spiked_mask] = self.tau_ref + t_spike"
   ]
  },
  {
   "cell_type": "code",
   "execution_count": 2,
   "metadata": {},
   "outputs": [],
   "source": [
    "from nengo.builder.operator import Operator\n",
    "\n",
    "class SimCustomLIF(Operator):\n",
    "    \"\"\"Set a neuron model output for the given input current.\n",
    "\n",
    "    Implements ``neurons.step_math(dt, J, output, *states)``.\n",
    "\n",
    "    Parameters\n",
    "    ----------\n",
    "    neurons : NeuronType\n",
    "        The `.NeuronType`, which defines a ``step_math`` function.\n",
    "    J : Signal\n",
    "        The input current.\n",
    "    output : Signal\n",
    "        The neuron output signal that will be set.\n",
    "    states : list, optional\n",
    "        A list of additional neuron state signals set by ``step_math``.\n",
    "    tag : str, optional\n",
    "        A label associated with the operator, for debugging purposes.\n",
    "\n",
    "    Attributes\n",
    "    ----------\n",
    "    J : Signal\n",
    "        The input current.\n",
    "    neurons : NeuronType\n",
    "        The `.NeuronType`, which defines a ``step_math`` function.\n",
    "    output : Signal\n",
    "        The neuron output signal that will be set.\n",
    "    states : list\n",
    "        A list of additional neuron state signals set by ``step_math``.\n",
    "    tag : str or None\n",
    "        A label associated with the operator, for debugging purposes.\n",
    "\n",
    "    Notes\n",
    "    -----\n",
    "    1. sets ``[output] + states``\n",
    "    2. incs ``[]``\n",
    "    3. reads ``[J]``\n",
    "    4. updates ``[]``\n",
    "    \"\"\"\n",
    "\n",
    "    def __init__(self, neurons, J, output, states=None, tag=None):\n",
    "        super().__init__(tag=tag)\n",
    "        self.neurons = neurons\n",
    "\n",
    "        self.sets = [output] + ([] if states is None else states)\n",
    "        self.incs = []\n",
    "        self.reads = [J]\n",
    "        self.updates = []\n",
    "\n",
    "    @property\n",
    "    def J(self):\n",
    "        return self.reads[0]\n",
    "\n",
    "    @property\n",
    "    def output(self):\n",
    "        return self.sets[0]\n",
    "\n",
    "    @property\n",
    "    def states(self):\n",
    "        return self.sets[1:]\n",
    "\n",
    "    def _descstr(self):\n",
    "        return \"%s, %s, %s\" % (self.neurons, self.J, self.output)\n",
    "\n",
    "    def make_step(self, signals, dt, rng):\n",
    "        J = signals[self.J]\n",
    "        output = signals[self.output]\n",
    "        states = [signals[state] for state in self.states]\n",
    "\n",
    "        def step_simcustomlif():\n",
    "            self.neurons.step_math(dt, J, output, *states)\n",
    "\n",
    "        return step_simcustomlif"
   ]
  },
  {
   "cell_type": "code",
   "execution_count": 3,
   "metadata": {},
   "outputs": [],
   "source": [
    "from nengo.builder import Builder\n",
    "from nengo.builder.operator import Copy\n",
    "from nengo.builder.signal import Signal\n",
    "from nengo.rc import rc\n",
    "\n",
    "\n",
    "@Builder.register(CustomLIF)\n",
    "def build_customlif(model, neuron_type, neurons):\n",
    "    \"\"\"Builds a `.LIF` object into a model.\n",
    "\n",
    "    In addition to adding a `.SimNeurons` operator, this build function sets up\n",
    "    signals to track the voltage and refractory times for each neuron.\n",
    "\n",
    "    Parameters\n",
    "    ----------\n",
    "    model : Model\n",
    "        The model to build into.\n",
    "    neuron_type : CustomLIF\n",
    "        Neuron type to build.\n",
    "    neuron : Neurons\n",
    "        The neuron population object corresponding to the neuron type.\n",
    "\n",
    "    Notes\n",
    "    -----\n",
    "    Does not modify ``model.params[]`` and can therefore be called\n",
    "    more than once with the same `.LIF` instance.\n",
    "    \"\"\"\n",
    "\n",
    "    model.sig[neurons][\"voltage\"] = Signal(\n",
    "        shape=neurons.size_in, name=\"%s.voltage\" % neurons\n",
    "    )\n",
    "    model.sig[neurons][\"refractory_time\"] = Signal(\n",
    "        shape=neurons.size_in, name=\"%s.refractory_time\" % neurons\n",
    "    )\n",
    "    model.add_op(\n",
    "        SimCustomLIF(\n",
    "            neurons=neuron_type,\n",
    "            J=model.sig[neurons][\"in\"],\n",
    "            output=model.sig[neurons][\"out\"],\n",
    "            states=[\n",
    "                model.sig[neurons][\"voltage\"],\n",
    "                model.sig[neurons][\"refractory_time\"],\n",
    "            ],\n",
    "        )\n",
    "    )\n",
    "\n"
   ]
  },
  {
   "cell_type": "code",
   "execution_count": 4,
   "metadata": {},
   "outputs": [
    {
     "name": "stdout",
     "output_type": "stream",
     "text": [
      "S = [[ 0.         -1.14068925 -1.41880323]\n",
      " [-1.14068925  0.         -0.99762099]\n",
      " [-1.41880323 -0.99762099  0.        ]]\n"
     ]
    },
    {
     "data": {
      "application/vdom.v1+json": {
       "attributes": {},
       "tagName": "div"
      },
      "text/html": [
       "\n",
       "                <script>\n",
       "                    if (Jupyter.version.split(\".\")[0] < 5) {\n",
       "                        var pb = document.getElementById(\"9c6eef92-40f3-44e2-9903-0df2f0418474\");\n",
       "                        var text = document.createTextNode(\n",
       "                            \"HMTL progress bar requires Jupyter Notebook >= \" +\n",
       "                            \"5.0 or Jupyter Lab. Alternatively, you can use \" +\n",
       "                            \"TerminalProgressBar().\");\n",
       "                        pb.parentNode.insertBefore(text, pb);\n",
       "                    }\n",
       "                </script>\n",
       "                <div id=\"9c6eef92-40f3-44e2-9903-0df2f0418474\" style=\"\n",
       "                    width: 100%;\n",
       "                    border: 1px solid #cfcfcf;\n",
       "                    border-radius: 4px;\n",
       "                    text-align: center;\n",
       "                    position: relative;\">\n",
       "                  <div class=\"pb-text\" style=\"\n",
       "                      position: absolute;\n",
       "                      width: 100%;\">\n",
       "                    0%\n",
       "                  </div>\n",
       "                  <div class=\"pb-fill\" style=\"\n",
       "                      background-color: #bdd2e6;\n",
       "                      width: 0%;\">\n",
       "                    <style type=\"text/css\" scoped=\"scoped\">\n",
       "                        @keyframes pb-fill-anim {\n",
       "                            0% { background-position: 0 0; }\n",
       "                            100% { background-position: 100px 0; }\n",
       "                        }\n",
       "                    </style>\n",
       "                    &nbsp;\n",
       "                  </div>\n",
       "                </div>"
      ],
      "text/plain": [
       "HtmlProgressBar cannot be displayed. Please use the TerminalProgressBar. It can be enabled with `nengo.rc.set('progress', 'progress_bar', 'nengo.utils.progress.TerminalProgressBar')`."
      ]
     },
     "metadata": {},
     "output_type": "display_data"
    },
    {
     "data": {
      "application/vdom.v1+json": {
       "attributes": {
        "id": "0b61f4dd-dd8e-4316-bb92-fc1cc6e4f2cc",
        "style": {
         "border": "1px solid #cfcfcf",
         "borderRadius": "4px",
         "boxSizing": "border-box",
         "position": "relative",
         "textAlign": "center",
         "width": "100%"
        }
       },
       "children": [
        {
         "attributes": {
          "class": "pb-text",
          "style": {
           "position": "absolute",
           "width": "100%"
          }
         },
         "children": [
          "Build finished in 0:00:01."
         ],
         "tagName": "div"
        },
        {
         "attributes": {
          "class": "pb-fill",
          "style": {
           "animation": "none",
           "backgroundColor": "#bdd2e6",
           "backgroundImage": "none",
           "backgroundSize": "100px 100%",
           "width": "100%"
          }
         },
         "children": [
          {
           "attributes": {
            "scoped": "scoped",
            "type": "text/css"
           },
           "children": [
            "\n                        @keyframes pb-fill-anim {\n                            0% { background-position: 0 0; }\n                            100% { background-position: 100px 0; }\n                        }}"
           ],
           "tagName": "style"
          },
          " "
         ],
         "tagName": "div"
        }
       ],
       "tagName": "div"
      },
      "text/html": [
       "<script>\n",
       "              (function () {\n",
       "                  var root = document.getElementById('9c6eef92-40f3-44e2-9903-0df2f0418474');\n",
       "                  var text = root.getElementsByClassName('pb-text')[0];\n",
       "                  var fill = root.getElementsByClassName('pb-fill')[0];\n",
       "\n",
       "                  text.innerHTML = 'Build finished in 0:00:01.';\n",
       "                  \n",
       "            fill.style.width = '100%';\n",
       "            fill.style.animation = 'pb-fill-anim 2s linear infinite';\n",
       "            fill.style.backgroundSize = '100px 100%';\n",
       "            fill.style.backgroundImage = 'repeating-linear-gradient(' +\n",
       "                '90deg, #bdd2e6, #edf2f8 40%, #bdd2e6 80%, #bdd2e6)';\n",
       "        \n",
       "                  \n",
       "                fill.style.animation = 'none';\n",
       "                fill.style.backgroundImage = 'none';\n",
       "            \n",
       "              })();\n",
       "        </script>"
      ]
     },
     "metadata": {},
     "output_type": "display_data"
    },
    {
     "name": "stdout",
     "output_type": "stream",
     "text": [
      "init voltage = [0. 0. 0.]\n",
      "U = [0. 0. 0.]\n",
      "eta = [2.1023374  2.99255847 1.03432411]\n",
      "dV = [2.1023374  2.99255847 1.03432411]\n",
      "final voltage = [2.1023374  2.99255847 1.03432411]\n",
      "spiked = [1000. 1000. 1000.]\n",
      "init voltage = [0. 0. 0.]\n",
      "U = [-2559.49248311 -2138.31024088 -2416.42421903]\n",
      "eta = [1.34304651 2.6900454  1.20822596]\n",
      "dV = [-2558.14943661 -2135.62019549 -2415.21599307]\n",
      "final voltage = [-2558.14943661 -2135.62019549 -2415.21599307]\n",
      "spiked = [0. 0. 0.]\n",
      "init voltage = [0. 0. 0.]\n",
      "U = [0. 0. 0.]\n",
      "eta = [2.43942196 2.59244054 2.38556132]\n",
      "dV = [2.43942196 2.59244054 2.38556132]\n",
      "final voltage = [2.43942196 2.59244054 2.38556132]\n",
      "spiked = [1000. 1000. 1000.]\n",
      "init voltage = [0. 0. 0.]\n",
      "U = [-2559.49248311 -2138.31024088 -2416.42421903]\n",
      "eta = [0.34305322 2.57561652 2.29809301]\n",
      "dV = [-2559.1494299  -2135.73462436 -2414.12612602]\n",
      "final voltage = [-2559.1494299  -2135.73462436 -2414.12612602]\n",
      "spiked = [0. 0. 0.]\n",
      "init voltage = [0. 0. 0.]\n",
      "U = [0. 0. 0.]\n",
      "eta = [1.26128464 2.10187347 2.07412388]\n",
      "dV = [1.26128464 2.10187347 2.07412388]\n",
      "final voltage = [1.26128464 2.10187347 2.07412388]\n",
      "spiked = [1000. 1000. 1000.]\n",
      "init voltage = [0. 0. 0.]\n",
      "U = [-2559.49248311 -2138.31024088 -2416.42421903]\n",
      "eta = [2.3514193  0.69858789 2.0135597 ]\n",
      "dV = [-2557.14106382 -2137.61165299 -2414.41065933]\n",
      "final voltage = [-2557.14106382 -2137.61165299 -2414.41065933]\n",
      "spiked = [0. 0. 0.]\n",
      "init voltage = [0. 0. 0.]\n",
      "U = [0. 0. 0.]\n",
      "eta = [0.24542275 1.06788238 2.88231573]\n",
      "dV = [0.24542275 1.06788238 2.88231573]\n",
      "final voltage = [0.24542275 1.06788238 2.88231573]\n",
      "spiked = [   0. 1000. 1000.]\n",
      "init voltage = [0.24542275 0.         0.        ]\n",
      "U = [-2559.49248311  -997.6209884   -997.6209884 ]\n",
      "eta = [2.27484854 0.47892398 2.84002043]\n",
      "dV = [-2569.48877226  -997.14206442  -994.78096797]\n",
      "final voltage = [-2569.2433495   -997.14206442  -994.78096797]\n",
      "spiked = [0. 0. 0.]\n",
      "init voltage = [0. 0. 0.]\n",
      "U = [0. 0. 0.]\n",
      "eta = [0.30025696 2.86928024 1.84404712]\n",
      "dV = [0.30025696 2.86928024 1.84404712]\n",
      "final voltage = [0.30025696 2.86928024 1.84404712]\n",
      "spiked = [   0. 1000. 1000.]\n",
      "init voltage = [0.30025696 0.         0.        ]\n",
      "U = [-2559.49248311  -997.6209884   -997.6209884 ]\n",
      "eta = [0.48440056 0.34745139 2.22625526]\n",
      "dV = [-2574.02093068  -997.27353701  -995.39473314]\n",
      "final voltage = [-2573.72067371  -997.27353701  -995.39473314]\n",
      "spiked = [0. 0. 0.]\n",
      "init voltage = [0. 0. 0.]\n",
      "U = [0. 0. 0.]\n",
      "eta = [1.08808337 0.84684356 1.55691232]\n",
      "dV = [1.08808337 0.84684356 1.55691232]\n",
      "final voltage = [1.08808337 0.84684356 1.55691232]\n",
      "spiked = [1000.    0. 1000.]\n",
      "init voltage = [0.         0.84684356 0.        ]\n",
      "U = [-1418.80323063 -2138.31024088 -1418.80323063]\n",
      "eta = [0.22649477 0.76036896 0.98365379]\n",
      "dV = [-1418.57673586 -2179.89205005 -1417.81957684]\n",
      "final voltage = [-1418.57673586 -2179.04520649 -1417.81957684]\n",
      "spiked = [0. 0. 0.]\n",
      "init voltage = [0. 0. 0.]\n",
      "U = [0. 0. 0.]\n",
      "eta = [1.91745563 0.30675518 1.65174882]\n",
      "dV = [1.91745563 0.30675518 1.65174882]\n",
      "final voltage = [1.91745563 0.30675518 1.65174882]\n",
      "spiked = [1000.    0. 1000.]\n",
      "init voltage = [0.         0.30675518 0.        ]\n",
      "U = [-1418.80323063 -2138.31024088 -1418.80323063]\n",
      "eta = [1.70617675 1.86541355 0.27001566]\n",
      "dV = [-1417.09705388 -2151.78258611 -1418.53321497]\n",
      "final voltage = [-1417.09705388 -2151.47583093 -1418.53321497]\n",
      "spiked = [0. 0. 0.]\n",
      "init voltage = [0. 0. 0.]\n",
      "U = [0. 0. 0.]\n",
      "eta = [0.12053689 1.17785873 0.46465208]\n",
      "dV = [0.12053689 1.17785873 0.46465208]\n",
      "final voltage = [0.12053689 1.17785873 0.46465208]\n",
      "spiked = [   0. 1000.    0.]\n",
      "init voltage = [0.12053689 0.         0.46465208]\n",
      "U = [-1140.68925248     0.          -997.6209884 ]\n",
      "eta = [2.20035603 1.7454501  1.80495953]\n",
      "dV = [-1144.51574084     1.7454501  -1019.04863286]\n",
      "final voltage = [-1144.39520395     1.7454501  -1018.58398078]\n",
      "spiked = [   0. 1000.    0.]\n",
      "init voltage = [0. 0. 0.]\n",
      "U = [-1140.68925248     0.          -997.6209884 ]\n",
      "eta = [0.73086337 0.56440995 2.35620968]\n",
      "dV = [-1.13995839e+03  5.64409949e-01 -9.95264779e+02]\n",
      "final voltage = [-1.13995839e+03  5.64409949e-01 -9.95264779e+02]\n",
      "spiked = [0. 0. 0.]\n",
      "init voltage = [0.         0.56440995 0.        ]\n",
      "U = [0. 0. 0.]\n",
      "eta = [0.75319913 1.9489929  1.76426151]\n",
      "dV = [  0.75319913 -26.27150455   1.76426151]\n",
      "final voltage = [  0.75319913 -25.7070946    1.76426151]\n",
      "spiked = [   0.    0. 1000.]\n",
      "init voltage = [0.75319913 0.         0.        ]\n",
      "U = [-1418.80323063  -997.6209884      0.        ]\n",
      "eta = [1.57231838 1.7482676  2.32348556]\n",
      "dV = [-1454.89086865  -995.8727208      2.32348556]\n",
      "final voltage = [-1454.13766952  -995.8727208      2.32348556]\n",
      "spiked = [   0.    0. 1000.]\n",
      "init voltage = [0. 0. 0.]\n",
      "U = [-1418.80323063  -997.6209884      0.        ]\n",
      "eta = [0.61358816 0.0472959  2.53280833]\n",
      "dV = [-1418.18964247  -997.57369249     2.53280833]\n",
      "final voltage = [-1418.18964247  -997.57369249     2.53280833]\n",
      "spiked = [   0.    0. 1000.]\n"
     ]
    },
    {
     "data": {
      "application/vdom.v1+json": {
       "attributes": {},
       "tagName": "div"
      },
      "text/html": [
       "\n",
       "                <script>\n",
       "                    if (Jupyter.version.split(\".\")[0] < 5) {\n",
       "                        var pb = document.getElementById(\"537271e9-4db6-4294-9e6c-6f959ef01553\");\n",
       "                        var text = document.createTextNode(\n",
       "                            \"HMTL progress bar requires Jupyter Notebook >= \" +\n",
       "                            \"5.0 or Jupyter Lab. Alternatively, you can use \" +\n",
       "                            \"TerminalProgressBar().\");\n",
       "                        pb.parentNode.insertBefore(text, pb);\n",
       "                    }\n",
       "                </script>\n",
       "                <div id=\"537271e9-4db6-4294-9e6c-6f959ef01553\" style=\"\n",
       "                    width: 100%;\n",
       "                    border: 1px solid #cfcfcf;\n",
       "                    border-radius: 4px;\n",
       "                    text-align: center;\n",
       "                    position: relative;\">\n",
       "                  <div class=\"pb-text\" style=\"\n",
       "                      position: absolute;\n",
       "                      width: 100%;\">\n",
       "                    0%\n",
       "                  </div>\n",
       "                  <div class=\"pb-fill\" style=\"\n",
       "                      background-color: #bdd2e6;\n",
       "                      width: 0%;\">\n",
       "                    <style type=\"text/css\" scoped=\"scoped\">\n",
       "                        @keyframes pb-fill-anim {\n",
       "                            0% { background-position: 0 0; }\n",
       "                            100% { background-position: 100px 0; }\n",
       "                        }\n",
       "                    </style>\n",
       "                    &nbsp;\n",
       "                  </div>\n",
       "                </div>"
      ],
      "text/plain": [
       "HtmlProgressBar cannot be displayed. Please use the TerminalProgressBar. It can be enabled with `nengo.rc.set('progress', 'progress_bar', 'nengo.utils.progress.TerminalProgressBar')`."
      ]
     },
     "metadata": {},
     "output_type": "display_data"
    },
    {
     "data": {
      "application/vdom.v1+json": {
       "attributes": {
        "id": "0176cea6-38e4-45b5-af6d-b3aa4c8cab07",
        "style": {
         "border": "1px solid #cfcfcf",
         "borderRadius": "4px",
         "boxSizing": "border-box",
         "position": "relative",
         "textAlign": "center",
         "width": "100%"
        }
       },
       "children": [
        {
         "attributes": {
          "class": "pb-text",
          "style": {
           "position": "absolute",
           "width": "100%"
          }
         },
         "children": [
          "Simulation finished in 0:00:01."
         ],
         "tagName": "div"
        },
        {
         "attributes": {
          "class": "pb-fill",
          "style": {
           "animation": "none",
           "backgroundColor": "#bdd2e6",
           "backgroundImage": "none",
           "transition": "width 0.1s linear",
           "width": "100%"
          }
         },
         "children": [
          {
           "attributes": {
            "scoped": "scoped",
            "type": "text/css"
           },
           "children": [
            "\n                        @keyframes pb-fill-anim {\n                            0% { background-position: 0 0; }\n                            100% { background-position: 100px 0; }\n                        }}"
           ],
           "tagName": "style"
          },
          " "
         ],
         "tagName": "div"
        }
       ],
       "tagName": "div"
      },
      "text/html": [
       "<script>\n",
       "              (function () {\n",
       "                  var root = document.getElementById('537271e9-4db6-4294-9e6c-6f959ef01553');\n",
       "                  var text = root.getElementsByClassName('pb-text')[0];\n",
       "                  var fill = root.getElementsByClassName('pb-fill')[0];\n",
       "\n",
       "                  text.innerHTML = 'Simulation finished in 0:00:01.';\n",
       "                  \n",
       "            if (100.0 > 0.) {\n",
       "                fill.style.transition = 'width 0.1s linear';\n",
       "            } else {\n",
       "                fill.style.transition = 'none';\n",
       "            }\n",
       "\n",
       "            fill.style.width = '100.0%';\n",
       "            fill.style.animation = 'none';\n",
       "            fill.style.backgroundImage = 'none'\n",
       "        \n",
       "                  \n",
       "                fill.style.animation = 'none';\n",
       "                fill.style.backgroundImage = 'none';\n",
       "            \n",
       "              })();\n",
       "        </script>"
      ]
     },
     "metadata": {},
     "output_type": "display_data"
    },
    {
     "data": {
      "text/plain": [
       "Text(0, 0.5, 'Neuron number')"
      ]
     },
     "execution_count": 4,
     "metadata": {},
     "output_type": "execute_result"
    },
    {
     "data": {
      "image/png": "[encoded data removed]",
      "text/plain": [
       "<Figure size 864x432 with 1 Axes>"
      ]
     },
     "metadata": {
      "needs_background": "light"
     },
     "output_type": "display_data"
    },
    {
     "data": {
      "image/png": "[encoded data removed]",
      "text/plain": [
       "<Figure size 864x432 with 1 Axes>"
      ]
     },
     "metadata": {
      "needs_background": "light"
     },
     "output_type": "display_data"
    },
    {
     "data": {
      "image/png": "[encoded data removed]",
      "text/plain": [
       "<Figure size 864x432 with 1 Axes>"
      ]
     },
     "metadata": {
      "needs_background": "light"
     },
     "output_type": "display_data"
    },
    {
     "data": {
      "image/png": "[encoded data removed]",
      "text/plain": [
       "<Figure size 864x432 with 1 Axes>"
      ]
     },
     "metadata": {
      "needs_background": "light"
     },
     "output_type": "display_data"
    }
   ],
   "source": [
    "from nengo.utils.matplotlib import rasterplot\n",
    "\n",
    "S = adjacency(3, 3, 6, 28)\n",
    "print('S = {}'.format(S))\n",
    "\n",
    "model = nengo.Network(label='2D Representation', seed=10)\n",
    "process = nengo.processes.WhiteNoise(\n",
    "    dist=nengo.dists.Gaussian(0, .01), seed=1)\n",
    "with model:\n",
    "    a = nengo.Ensemble(3, dimensions=2, noise=process, neuron_type=CustomLIF(S, 3))\n",
    "    b = nengo.Ensemble(3, dimensions=2, noise=process, neuron_type=nengo.LIF())\n",
    "    spikes_probe = nengo.Probe(a.neurons, 'spikes')\n",
    "    voltage_probe = nengo.Probe(a.neurons, 'voltage')\n",
    "    b_spikes = nengo.Probe(b.neurons, 'spikes')\n",
    "    b_voltage = nengo.Probe(b.neurons, 'voltage')\n",
    "with nengo.Simulator(model) as sim:\n",
    "    sim.run(.02)\n",
    "    \n",
    "# Custom LIF neurons\n",
    "plt.figure(figsize=(12, 6))\n",
    "plt.plot(sim.trange(), sim.data[voltage_probe], label=\"voltage\")\n",
    "plt.xlabel('time [s]')\n",
    "plt.ylabel('voltage')\n",
    "plt.legend(loc=4);\n",
    "\n",
    "plt.figure(figsize=(12, 6))\n",
    "rasterplot(sim.trange(), sim.data[spikes_probe])\n",
    "plt.xlabel('time [s]')\n",
    "plt.ylabel('Neuron number')\n",
    "\n",
    "# Compare to Nengo's LIF neurons\n",
    "plt.figure(figsize=(12, 6))\n",
    "plt.plot(sim.trange(), sim.data[b_voltage], label=\"voltage\")\n",
    "plt.xlabel('time [s]')\n",
    "plt.ylabel('voltage')\n",
    "plt.legend(loc=4);\n",
    "\n",
    "plt.figure(figsize=(12, 6))\n",
    "rasterplot(sim.trange(), sim.data[b_spikes])\n",
    "plt.xlabel('time [s]')\n",
    "plt.ylabel('Neuron number')\n",
    "\n"
   ]
  },
  {
   "cell_type": "code",
   "execution_count": null,
   "metadata": {},
   "outputs": [],
   "source": []
  }
 ],
 "metadata": {
  "kernelspec": {
   "display_name": "Python 3",
   "language": "python",
   "name": "python3"
  },
  "language_info": {
   "codemirror_mode": {
    "name": "ipython",
    "version": 3
   },
   "file_extension": ".py",
   "mimetype": "text/x-python",
   "name": "python",
   "nbconvert_exporter": "python",
   "pygments_lexer": "ipython3",
   "version": "3.7.4"
  }
 },
 "nbformat": 4,
 "nbformat_minor": 4
}
