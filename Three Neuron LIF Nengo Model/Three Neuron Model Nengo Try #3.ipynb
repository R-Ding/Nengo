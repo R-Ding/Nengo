{
 "cells": [
  {
   "cell_type": "markdown",
   "metadata": {},
   "source": [
    "Attempt number three at creating a custom Neuron class. Found a paper online with solution to differential equation governing LIF neurons:\n",
    "https://www.cns.nyu.edu/~eorhan/notes/lif-neuron.pdf\n",
    "With this result, deduced that Nengo was going off this equation. Now that I understood a little more about their implementation, decided to switch to their LIF implementation, but customized with a randomly defined adjacency matrix. Was successful, but unsure if this is the correct solution to the differential equation as not sure if second term with S and H is actually dependent on v."
   ]
  },
  {
   "cell_type": "markdown",
   "metadata": {},
   "source": [
    "Adding new objects to Nengo:\n",
    "    http://www.bekolay.org/nengodocs-rtd/examples/rectified_linear.html\n",
    "Step 1:\n",
    "    Creating a frontend Neurons sublass for new custom neuron type"
   ]
  },
  {
   "cell_type": "code",
   "execution_count": 1,
   "metadata": {},
   "outputs": [],
   "source": [
    "import numpy as np\n",
    "import matplotlib.pyplot as plt\n",
    "%matplotlib inline\n",
    "\n",
    "import nengo\n",
    "from nengo.params import Parameter, NumberParam\n",
    "from nengo.neurons import settled_firingrate\n",
    "\n",
    "class CustomLIF(nengo.neurons.NeuronType):\n",
    "    \"\"\"Spiking version of the leaky integrate-and-fire (LIF) neuron model.\n",
    "\n",
    "    Parameters\n",
    "    ----------\n",
    "    tau_rc : float\n",
    "        Membrane RC time constant, in seconds. Affects how quickly the membrane\n",
    "        voltage decays to zero in the absence of input (larger = slower decay).\n",
    "    tau_ref : float\n",
    "        Absolute refractory period, in seconds. This is how long the\n",
    "        membrane voltage is held at zero after a spike.\n",
    "    min_voltage : float\n",
    "        Minimum value for the membrane voltage. If ``-np.inf``, the voltage\n",
    "        is never clipped.\n",
    "    amplitude : float\n",
    "        Scaling factor on the neuron output. Corresponds to the relative\n",
    "        amplitude of the output spikes of the neuron.\n",
    "    \"\"\"\n",
    "\n",
    "    probeable = (\"spikes\", \"voltage\", \"refractory_time\")\n",
    "\n",
    "    min_voltage = NumberParam(\"min_voltage\", high=0)\n",
    "    tau_rc = NumberParam(\"tau_rc\", low=0, low_open=True)\n",
    "    tau_ref = NumberParam(\"tau_ref\", low=0)\n",
    "    amplitude = NumberParam(\"amplitude\", low=0, low_open=True)\n",
    "    num = NumberParam(\"num\")\n",
    "\n",
    "    def __init__(self, tau_rc=0.02, tau_ref=0.002, min_voltage=0, amplitude=2, num=3):\n",
    "        super().__init__()\n",
    "        self.tau_rc = tau_rc\n",
    "        self.tau_ref = tau_ref\n",
    "        self.amplitude = amplitude\n",
    "        self.min_voltage = min_voltage\n",
    "        self.num = num\n",
    "\n",
    "    def gain_bias(self, max_rates, intercepts):\n",
    "        \"\"\"Analytically determine gain, bias.\"\"\"\n",
    "        max_rates = np.array(max_rates, dtype=float, copy=False, ndmin=1)\n",
    "        intercepts = np.array(intercepts, dtype=float, copy=False, ndmin=1)\n",
    "\n",
    "        inv_tau_ref = 1.0 / self.tau_ref if self.tau_ref > 0 else np.inf\n",
    "        if np.any(max_rates > inv_tau_ref):\n",
    "            raise ValidationError(\n",
    "                \"Max rates must be below the inverse \"\n",
    "                \"refractory period (%0.3f)\" % inv_tau_ref,\n",
    "                attr=\"max_rates\",\n",
    "                obj=self,\n",
    "            )\n",
    "\n",
    "        x = 1.0 / (1 - np.exp((self.tau_ref - (1.0 / max_rates)) / self.tau_rc))\n",
    "        gain = (1 - x) / (intercepts - 1.0)\n",
    "        bias = 1 - gain * intercepts\n",
    "        return gain, bias\n",
    "\n",
    "\n",
    "    def max_rates_intercepts(self, gain, bias):\n",
    "        \"\"\"Compute the inverse of gain_bias.\"\"\"\n",
    "        intercepts = (1 - bias) / gain\n",
    "        max_rates = 1.0 / (\n",
    "            self.tau_ref - self.tau_rc * np.log1p(1.0 / (gain * (intercepts - 1) - 1))\n",
    "        )\n",
    "        if not np.all(np.isfinite(max_rates)):\n",
    "            warnings.warn(\n",
    "                \"Non-finite values detected in `max_rates`; this \"\n",
    "                \"probably means that `gain` was too small.\"\n",
    "            )\n",
    "        return max_rates, intercepts\n",
    "\n",
    "\n",
    "    def rates(self, x, gain, bias):\n",
    "        \"\"\"Always use LIFRate to determine rates.\"\"\"\n",
    "        J = self.current(x, gain, bias)\n",
    "        out = np.zeros_like(J)\n",
    "        # Use LIFRate's step_math explicitly to ensure rate approximation\n",
    "        LIFRate.step_math(self, dt=1, J=J, output=out)\n",
    "        return out\n",
    "\n",
    "\n",
    "    def step_math(self, dt, J, spiked, voltage, refractory_time):\n",
    "        # reduce all refractory times by dt\n",
    "        refractory_time -= dt\n",
    "\n",
    "        # compute effective dt for each neuron, based on remaining time.\n",
    "        # note that refractory times that have completed midway into this\n",
    "        # timestep will be given a partial timestep, and moreover these will\n",
    "        # be subtracted to zero at the next timestep (or reset by a spike)\n",
    "        delta_t = (dt - refractory_time).clip(0, dt)\n",
    "\n",
    "        # update voltage using discretized lowpass filter\n",
    "        # since v(t) = v(0) + (S*H*tau)*(1 - exp(-t/tau)) assuming\n",
    "        # J is constant over the interval [t, t + dt)\n",
    "        adjacency = self.tau_rc * np.random.rand(3,) * 1000\n",
    "        voltage -= (adjacency) * np.expm1(-delta_t / self.tau_rc)\n",
    "\n",
    "        # determine which neurons spiked (set them to 1/dt, else 0)\n",
    "        spiked_mask = voltage > 1\n",
    "        spiked[:] = spiked_mask * (self.amplitude / dt)\n",
    "\n",
    "        # set v(0) = 1 and solve for t to compute the spike time\n",
    "        t_spike = dt + self.tau_rc * np.log1p(\n",
    "            -(voltage[spiked_mask] - 1) / (J[spiked_mask] - 1)\n",
    "        )\n",
    "\n",
    "        # set spiked voltages to zero, refractory times to tau_ref, and\n",
    "        # rectify negative voltages to a floor of min_voltage\n",
    "        voltage[voltage < self.min_voltage] = self.min_voltage\n",
    "        voltage[spiked_mask] = 0\n",
    "        refractory_time[spiked_mask] = self.tau_ref + t_spike"
   ]
  },
  {
   "cell_type": "markdown",
   "metadata": {},
   "source": [
    "Step 2: Create a backend Operator subclass"
   ]
  },
  {
   "cell_type": "code",
   "execution_count": 2,
   "metadata": {},
   "outputs": [],
   "source": [
    "from nengo.builder.operator import Operator\n",
    "\n",
    "class SimCustomLIF(Operator):\n",
    "    \"\"\"Set a neuron model output for the given input current.\n",
    "\n",
    "    Implements ``neurons.step_math(dt, J, output, *states)``.\n",
    "\n",
    "    Parameters\n",
    "    ----------\n",
    "    neurons : NeuronType\n",
    "        The `.NeuronType`, which defines a ``step_math`` function.\n",
    "    J : Signal\n",
    "        The input current.\n",
    "    output : Signal\n",
    "        The neuron output signal that will be set.\n",
    "    states : list, optional\n",
    "        A list of additional neuron state signals set by ``step_math``.\n",
    "    tag : str, optional\n",
    "        A label associated with the operator, for debugging purposes.\n",
    "\n",
    "    Attributes\n",
    "    ----------\n",
    "    J : Signal\n",
    "        The input current.\n",
    "    neurons : NeuronType\n",
    "        The `.NeuronType`, which defines a ``step_math`` function.\n",
    "    output : Signal\n",
    "        The neuron output signal that will be set.\n",
    "    states : list\n",
    "        A list of additional neuron state signals set by ``step_math``.\n",
    "    tag : str or None\n",
    "        A label associated with the operator, for debugging purposes.\n",
    "\n",
    "    Notes\n",
    "    -----\n",
    "    1. sets ``[output] + states``\n",
    "    2. incs ``[]``\n",
    "    3. reads ``[J]``\n",
    "    4. updates ``[]``\n",
    "    \"\"\"\n",
    "\n",
    "    def __init__(self, neurons, J, output, states=None, tag=None):\n",
    "        super().__init__(tag=tag)\n",
    "        self.neurons = neurons\n",
    "\n",
    "        self.sets = [output] + ([] if states is None else states)\n",
    "        self.incs = []\n",
    "        self.reads = [J]\n",
    "        self.updates = []\n",
    "\n",
    "    @property\n",
    "    def J(self):\n",
    "        return self.reads[0]\n",
    "\n",
    "    @property\n",
    "    def output(self):\n",
    "        return self.sets[0]\n",
    "\n",
    "    @property\n",
    "    def states(self):\n",
    "        return self.sets[1:]\n",
    "\n",
    "    def _descstr(self):\n",
    "        return \"%s, %s, %s\" % (self.neurons, self.J, self.output)\n",
    "\n",
    "    def make_step(self, signals, dt, rng):\n",
    "        J = signals[self.J]\n",
    "        output = signals[self.output]\n",
    "        states = [signals[state] for state in self.states]\n",
    "\n",
    "        def step_simcustomlif():\n",
    "            self.neurons.step_math(dt, J, output, *states)\n",
    "\n",
    "        return step_simcustomlif"
   ]
  },
  {
   "cell_type": "markdown",
   "metadata": {},
   "source": [
    "Step 3: Create a build function"
   ]
  },
  {
   "cell_type": "code",
   "execution_count": 3,
   "metadata": {},
   "outputs": [],
   "source": [
    "from nengo.builder import Builder\n",
    "from nengo.builder.operator import Copy\n",
    "from nengo.builder.signal import Signal\n",
    "from nengo.rc import rc\n",
    "\n",
    "\n",
    "@Builder.register(CustomLIF)\n",
    "def build_customlif(model, neuron_type, neurons):\n",
    "    \"\"\"Builds a `.LIF` object into a model.\n",
    "\n",
    "    In addition to adding a `.SimNeurons` operator, this build function sets up\n",
    "    signals to track the voltage and refractory times for each neuron.\n",
    "\n",
    "    Parameters\n",
    "    ----------\n",
    "    model : Model\n",
    "        The model to build into.\n",
    "    neuron_type : CustomLIF\n",
    "        Neuron type to build.\n",
    "    neuron : Neurons\n",
    "        The neuron population object corresponding to the neuron type.\n",
    "\n",
    "    Notes\n",
    "    -----\n",
    "    Does not modify ``model.params[]`` and can therefore be called\n",
    "    more than once with the same `.LIF` instance.\n",
    "    \"\"\"\n",
    "\n",
    "    model.sig[neurons][\"voltage\"] = Signal(\n",
    "        shape=neurons.size_in, name=\"%s.voltage\" % neurons\n",
    "    )\n",
    "    model.sig[neurons][\"refractory_time\"] = Signal(\n",
    "        shape=neurons.size_in, name=\"%s.refractory_time\" % neurons\n",
    "    )\n",
    "    model.add_op(\n",
    "        SimCustomLIF(\n",
    "            neurons=neuron_type,\n",
    "            J=model.sig[neurons][\"in\"],\n",
    "            output=model.sig[neurons][\"out\"],\n",
    "            states=[\n",
    "                model.sig[neurons][\"voltage\"],\n",
    "                model.sig[neurons][\"refractory_time\"],\n",
    "            ],\n",
    "        )\n",
    "    )\n",
    "\n"
   ]
  },
  {
   "cell_type": "code",
   "execution_count": null,
   "metadata": {},
   "outputs": [],
   "source": [
    "Create an ensemble with 3 neurons of our new custom type."
   ]
  },
  {
   "cell_type": "code",
   "execution_count": 4,
   "metadata": {},
   "outputs": [
    {
     "data": {
      "application/vdom.v1+json": {
       "attributes": {},
       "tagName": "div"
      },
      "text/html": [
       "\n",
       "                <script>\n",
       "                    if (Jupyter.version.split(\".\")[0] < 5) {\n",
       "                        var pb = document.getElementById(\"a4d91379-1c65-446c-86be-4989ea628205\");\n",
       "                        var text = document.createTextNode(\n",
       "                            \"HMTL progress bar requires Jupyter Notebook >= \" +\n",
       "                            \"5.0 or Jupyter Lab. Alternatively, you can use \" +\n",
       "                            \"TerminalProgressBar().\");\n",
       "                        pb.parentNode.insertBefore(text, pb);\n",
       "                    }\n",
       "                </script>\n",
       "                <div id=\"a4d91379-1c65-446c-86be-4989ea628205\" style=\"\n",
       "                    width: 100%;\n",
       "                    border: 1px solid #cfcfcf;\n",
       "                    border-radius: 4px;\n",
       "                    text-align: center;\n",
       "                    position: relative;\">\n",
       "                  <div class=\"pb-text\" style=\"\n",
       "                      position: absolute;\n",
       "                      width: 100%;\">\n",
       "                    0%\n",
       "                  </div>\n",
       "                  <div class=\"pb-fill\" style=\"\n",
       "                      background-color: #bdd2e6;\n",
       "                      width: 0%;\">\n",
       "                    <style type=\"text/css\" scoped=\"scoped\">\n",
       "                        @keyframes pb-fill-anim {\n",
       "                            0% { background-position: 0 0; }\n",
       "                            100% { background-position: 100px 0; }\n",
       "                        }\n",
       "                    </style>\n",
       "                    &nbsp;\n",
       "                  </div>\n",
       "                </div>"
      ],
      "text/plain": [
       "HtmlProgressBar cannot be displayed. Please use the TerminalProgressBar. It can be enabled with `nengo.rc.set('progress', 'progress_bar', 'nengo.utils.progress.TerminalProgressBar')`."
      ]
     },
     "metadata": {},
     "output_type": "display_data"
    },
    {
     "data": {
      "application/vdom.v1+json": {
       "attributes": {
        "id": "82174099-eaac-462e-bdba-fb09d97f8a79",
        "style": {
         "border": "1px solid #cfcfcf",
         "borderRadius": "4px",
         "boxSizing": "border-box",
         "position": "relative",
         "textAlign": "center",
         "width": "100%"
        }
       },
       "children": [
        {
         "attributes": {
          "class": "pb-text",
          "style": {
           "position": "absolute",
           "width": "100%"
          }
         },
         "children": [
          "Build finished in 0:00:01."
         ],
         "tagName": "div"
        },
        {
         "attributes": {
          "class": "pb-fill",
          "style": {
           "animation": "none",
           "backgroundColor": "#bdd2e6",
           "backgroundImage": "none",
           "backgroundSize": "100px 100%",
           "width": "100%"
          }
         },
         "children": [
          {
           "attributes": {
            "scoped": "scoped",
            "type": "text/css"
           },
           "children": [
            "\n                        @keyframes pb-fill-anim {\n                            0% { background-position: 0 0; }\n                            100% { background-position: 100px 0; }\n                        }}"
           ],
           "tagName": "style"
          },
          " "
         ],
         "tagName": "div"
        }
       ],
       "tagName": "div"
      },
      "text/html": [
       "<script>\n",
       "              (function () {\n",
       "                  var root = document.getElementById('a4d91379-1c65-446c-86be-4989ea628205');\n",
       "                  var text = root.getElementsByClassName('pb-text')[0];\n",
       "                  var fill = root.getElementsByClassName('pb-fill')[0];\n",
       "\n",
       "                  text.innerHTML = 'Build finished in 0:00:01.';\n",
       "                  \n",
       "            fill.style.width = '100%';\n",
       "            fill.style.animation = 'pb-fill-anim 2s linear infinite';\n",
       "            fill.style.backgroundSize = '100px 100%';\n",
       "            fill.style.backgroundImage = 'repeating-linear-gradient(' +\n",
       "                '90deg, #bdd2e6, #edf2f8 40%, #bdd2e6 80%, #bdd2e6)';\n",
       "        \n",
       "                  \n",
       "                fill.style.animation = 'none';\n",
       "                fill.style.backgroundImage = 'none';\n",
       "            \n",
       "              })();\n",
       "        </script>"
      ]
     },
     "metadata": {},
     "output_type": "display_data"
    },
    {
     "data": {
      "application/vdom.v1+json": {
       "attributes": {},
       "tagName": "div"
      },
      "text/html": [
       "\n",
       "                <script>\n",
       "                    if (Jupyter.version.split(\".\")[0] < 5) {\n",
       "                        var pb = document.getElementById(\"6fef60b9-a40b-4be5-9690-108c709bd3f6\");\n",
       "                        var text = document.createTextNode(\n",
       "                            \"HMTL progress bar requires Jupyter Notebook >= \" +\n",
       "                            \"5.0 or Jupyter Lab. Alternatively, you can use \" +\n",
       "                            \"TerminalProgressBar().\");\n",
       "                        pb.parentNode.insertBefore(text, pb);\n",
       "                    }\n",
       "                </script>\n",
       "                <div id=\"6fef60b9-a40b-4be5-9690-108c709bd3f6\" style=\"\n",
       "                    width: 100%;\n",
       "                    border: 1px solid #cfcfcf;\n",
       "                    border-radius: 4px;\n",
       "                    text-align: center;\n",
       "                    position: relative;\">\n",
       "                  <div class=\"pb-text\" style=\"\n",
       "                      position: absolute;\n",
       "                      width: 100%;\">\n",
       "                    0%\n",
       "                  </div>\n",
       "                  <div class=\"pb-fill\" style=\"\n",
       "                      background-color: #bdd2e6;\n",
       "                      width: 0%;\">\n",
       "                    <style type=\"text/css\" scoped=\"scoped\">\n",
       "                        @keyframes pb-fill-anim {\n",
       "                            0% { background-position: 0 0; }\n",
       "                            100% { background-position: 100px 0; }\n",
       "                        }\n",
       "                    </style>\n",
       "                    &nbsp;\n",
       "                  </div>\n",
       "                </div>"
      ],
      "text/plain": [
       "HtmlProgressBar cannot be displayed. Please use the TerminalProgressBar. It can be enabled with `nengo.rc.set('progress', 'progress_bar', 'nengo.utils.progress.TerminalProgressBar')`."
      ]
     },
     "metadata": {},
     "output_type": "display_data"
    },
    {
     "data": {
      "application/vdom.v1+json": {
       "attributes": {
        "id": "4a5e2f57-62e6-4b1d-aa88-8d177f04f5df",
        "style": {
         "border": "1px solid #cfcfcf",
         "borderRadius": "4px",
         "boxSizing": "border-box",
         "position": "relative",
         "textAlign": "center",
         "width": "100%"
        }
       },
       "children": [
        {
         "attributes": {
          "class": "pb-text",
          "style": {
           "position": "absolute",
           "width": "100%"
          }
         },
         "children": [
          "Simulation finished in 0:00:01."
         ],
         "tagName": "div"
        },
        {
         "attributes": {
          "class": "pb-fill",
          "style": {
           "animation": "none",
           "backgroundColor": "#bdd2e6",
           "backgroundImage": "none",
           "transition": "width 0.1s linear",
           "width": "100%"
          }
         },
         "children": [
          {
           "attributes": {
            "scoped": "scoped",
            "type": "text/css"
           },
           "children": [
            "\n                        @keyframes pb-fill-anim {\n                            0% { background-position: 0 0; }\n                            100% { background-position: 100px 0; }\n                        }}"
           ],
           "tagName": "style"
          },
          " "
         ],
         "tagName": "div"
        }
       ],
       "tagName": "div"
      },
      "text/html": [
       "<script>\n",
       "              (function () {\n",
       "                  var root = document.getElementById('6fef60b9-a40b-4be5-9690-108c709bd3f6');\n",
       "                  var text = root.getElementsByClassName('pb-text')[0];\n",
       "                  var fill = root.getElementsByClassName('pb-fill')[0];\n",
       "\n",
       "                  text.innerHTML = 'Simulation finished in 0:00:01.';\n",
       "                  \n",
       "            if (100.0 > 0.) {\n",
       "                fill.style.transition = 'width 0.1s linear';\n",
       "            } else {\n",
       "                fill.style.transition = 'none';\n",
       "            }\n",
       "\n",
       "            fill.style.width = '100.0%';\n",
       "            fill.style.animation = 'none';\n",
       "            fill.style.backgroundImage = 'none'\n",
       "        \n",
       "                  \n",
       "                fill.style.animation = 'none';\n",
       "                fill.style.backgroundImage = 'none';\n",
       "            \n",
       "              })();\n",
       "        </script>"
      ]
     },
     "metadata": {},
     "output_type": "display_data"
    },
    {
     "data": {
      "image/png": "[encoded data removed]",
      "text/plain": [
       "<Figure size 864x576 with 1 Axes>"
      ]
     },
     "metadata": {
      "needs_background": "light"
     },
     "output_type": "display_data"
    }
   ],
   "source": [
    "model = nengo.Network(label='2D Representation', seed=10)\n",
    "process = nengo.processes.WhiteNoise(\n",
    "    dist=nengo.dists.Gaussian(0, .01), seed=1)\n",
    "with model:\n",
    "    a = nengo.Ensemble(3, dimensions=2, noise=process, neuron_type=CustomLIF())\n",
    "#     sin = nengo.Node(output=np.sin)\n",
    "#     cos = nengo.Node(output=np.cos)\n",
    "#     nengo.Connection(sin, a[0])\n",
    "#     nengo.Connection(cos, a[1])\n",
    "#     sin_probe = nengo.Probe(sin, 'output')\n",
    "#     cos_probe = nengo.Probe(cos, 'output')\n",
    "#     neurons_probe = nengo.Probe(a, 'decoded_output', synapse=0.01)\n",
    "    voltage_probe = nengo.Probe(a.neurons, 'voltage')\n",
    "with nengo.Simulator(model) as sim:\n",
    "    sim.run(.02)\n",
    "    \n",
    "plt.figure(figsize=(12, 8))\n",
    "\n",
    "plt.plot(sim.trange(), sim.data[voltage_probe], label=\"voltage\")\n",
    "\n",
    "plt.xlabel('time [s]')\n",
    "plt.ylabel('voltage')\n",
    "plt.legend(loc=4);"
   ]
  }
 ],
 "metadata": {
  "kernelspec": {
   "display_name": "Python 3",
   "language": "python",
   "name": "python3"
  },
  "language_info": {
   "codemirror_mode": {
    "name": "ipython",
    "version": 3
   },
   "file_extension": ".py",
   "mimetype": "text/x-python",
   "name": "python",
   "nbconvert_exporter": "python",
   "pygments_lexer": "ipython3",
   "version": "3.7.4"
  }
 },
 "nbformat": 4,
 "nbformat_minor": 4
}
